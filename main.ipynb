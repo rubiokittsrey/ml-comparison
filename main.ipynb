{
 "cells": [
  {
   "cell_type": "markdown",
   "metadata": {},
   "source": [
    "#### Elective 3 - ML Comparison"
   ]
  },
  {
   "cell_type": "code",
   "execution_count": 102,
   "metadata": {},
   "outputs": [
    {
     "name": "stdout",
     "output_type": "stream",
     "text": [
      "   radiant_score  dire_score  radiant_lineup  dire_lineup  radiant_win\n",
      "0             26          11       40.233268    33.977866         True\n",
      "1              4          25       81.151517    59.099905        False\n",
      "2             41          19       84.614570    97.955098         True\n",
      "3              8          30       10.676171     4.121101        False\n",
      "4             37           5        0.620122    85.992786         True\n"
     ]
    }
   ],
   "source": [
    "# load data\n",
    "import json\n",
    "import pandas as pd\n",
    "import random\n",
    "from hashlib import sha256\n",
    "from typing import List\n",
    "\n",
    "json_path = 'matches/simple_match_set.json'\n",
    "with open(json_path, 'r') as file:\n",
    "    data : List = json.load(file)\n",
    "\n",
    "df = pd.DataFrame(data)\n",
    "\n",
    "# function that 'flattens' an array (in this case the combination of heroes in a team)\n",
    "# and returns a random float generated using a seed (an int of the hashed array)\n",
    "def randfloat_from_arr(arr, min_val=0, max_val=1.0):\n",
    "    arr_hash = sha256(str(arr).encode()).hexdigest()\n",
    "    seed = int(arr_hash, 16)\n",
    "    random.seed(seed)\n",
    "    return random.uniform(min_val, max_val)\n",
    "\n",
    "df['radiant_lineup'] = df['radiant_lineup'].apply(lambda x: randfloat_from_arr(x, 0, 100.0))\n",
    "df['dire_lineup'] = df['dire_lineup'].apply(lambda x: randfloat_from_arr(x, 0, 100.0))\n",
    "\n",
    "print(df.head())\n",
    "\n",
    "X = df.drop(columns=['radiant_win'])\n",
    "y = df['radiant_win']"
   ]
  },
  {
   "cell_type": "code",
   "execution_count": 103,
   "metadata": {},
   "outputs": [
    {
     "name": "stdout",
     "output_type": "stream",
     "text": [
      "Random Forest Accuracy: 0.93\n"
     ]
    }
   ],
   "source": [
    "# random forest\n",
    "from sklearn.ensemble import RandomForestClassifier\n",
    "from sklearn.model_selection import train_test_split\n",
    "\n",
    "# split the data into training and testing sets\n",
    "X_train, X_test, y_train, y_test = train_test_split(X, y, test_size=0.2, random_state=42)\n",
    "\n",
    "# create and train the model\n",
    "model = RandomForestClassifier(n_estimators=100, random_state=42)\n",
    "model.fit(X_train, y_train)\n",
    "\n",
    "# test accuracy\n",
    "accuracy = model.score(X_test, y_test)\n",
    "print(f\"Random Forest Accuracy: {accuracy:.2f}\")"
   ]
  },
  {
   "cell_type": "code",
   "execution_count": 104,
   "metadata": {},
   "outputs": [
    {
     "name": "stdout",
     "output_type": "stream",
     "text": [
      "SVM Accuracy: 0.93\n"
     ]
    }
   ],
   "source": [
    "# svm\n",
    "from sklearn import svm\n",
    "from sklearn.preprocessing import StandardScaler\n",
    "\n",
    "scaler = StandardScaler()\n",
    "svm_X = scaler.fit_transform(X)\n",
    "\n",
    "X_train, X_test, y_train, y_test = train_test_split(svm_X, y, test_size=0.2, random_state=42)\n",
    "\n",
    "svm_model = svm.SVC(kernel='linear')\n",
    "svm_model.fit(X_train, y_train)\n",
    "\n",
    "accuracy = svm_model.score(X_test, y_test)\n",
    "print(f\"SVM Accuracy: {accuracy:.2f}\")"
   ]
  },
  {
   "cell_type": "code",
   "execution_count": 105,
   "metadata": {},
   "outputs": [
    {
     "name": "stdout",
     "output_type": "stream",
     "text": [
      "Gradient Boosting Accuracy: 0.93\n"
     ]
    }
   ],
   "source": [
    "# gradient boosting\n",
    "from sklearn.ensemble import GradientBoostingClassifier\n",
    "\n",
    "X_train, X_test, y_train, y_test = train_test_split(X, y, test_size=0.2, random_state=42)\n",
    "\n",
    "model = GradientBoostingClassifier(n_estimators=100, learning_rate=0.1, random_state=42)\n",
    "model.fit(X_train, y_train)\n",
    "\n",
    "accuracy = model.score(X_test, y_test)\n",
    "print(f\"Gradient Boosting Accuracy: {accuracy:.2f}\")"
   ]
  },
  {
   "cell_type": "code",
   "execution_count": 106,
   "metadata": {},
   "outputs": [
    {
     "name": "stdout",
     "output_type": "stream",
     "text": [
      "Decision Tree Accuracy: 0.89\n",
      "Feature importances: [0.42218932 0.47561357 0.04957533 0.05262178]\n"
     ]
    }
   ],
   "source": [
    "from sklearn.tree import DecisionTreeClassifier\n",
    "from sklearn import metrics\n",
    "\n",
    "X_train, X_test, y_train, y_test = train_test_split(X, y, test_size=0.2, random_state=42)\n",
    "\n",
    "clf = DecisionTreeClassifier(random_state=42)\n",
    "clf.fit(X_train, y_train)\n",
    "\n",
    "y_pred = clf.predict(X_test)\n",
    "\n",
    "accuracy = metrics.accuracy_score(y_test, y_pred)\n",
    "print(f\"Decision Tree Accuracy: {accuracy:.2f}\")\n",
    "\n",
    "print(\"Feature importances:\", clf.feature_importances_)"
   ]
  }
 ],
 "metadata": {
  "kernelspec": {
   "display_name": "Python 3",
   "language": "python",
   "name": "python3"
  },
  "language_info": {
   "codemirror_mode": {
    "name": "ipython",
    "version": 3
   },
   "file_extension": ".py",
   "mimetype": "text/x-python",
   "name": "python",
   "nbconvert_exporter": "python",
   "pygments_lexer": "ipython3",
   "version": "3.12.7"
  }
 },
 "nbformat": 4,
 "nbformat_minor": 2
}
