{
 "cells": [
  {
   "cell_type": "code",
   "execution_count": 6,
   "metadata": {},
   "outputs": [
    {
     "name": "stdout",
     "output_type": "stream",
     "text": [
      "(1737, 74)\n"
     ]
    }
   ],
   "source": [
    "# loading and preparing the data\n",
    "import json\n",
    "import pandas as pd\n",
    "from typing import List\n",
    "\n",
    "json_path = 'dataset.json'\n",
    "with open(json_path, 'r') as file:\n",
    "    data : List = json.load(file)\n",
    "\n",
    "# remove 'hero_id' keys\n",
    "for d in data:\n",
    "    for p in d['radiant']:\n",
    "        del p['hero_id']\n",
    "    for p in d['dire']:\n",
    "        del p['hero_id']\n",
    "\n",
    "# flatten then create a dataframe\n",
    "flattened_data = [\n",
    "    {\n",
    "        **{f'radiant_player_{i+1}_{key}': player[key] for i, player in enumerate(match['radiant']) for key in player},\n",
    "        **{f'dire_player_{i+1}_{key}': player[key] for i, player in enumerate(match['dire']) for key in player},\n",
    "        'radiant_lineup': match['radiant_lineup'],\n",
    "        'dire_lineup': match['dire_lineup'],\n",
    "        'duration': match['duration'],\n",
    "        'win': match['win']\n",
    "    }\n",
    "    for match in data\n",
    "]\n",
    "\n",
    "df = pd.DataFrame(flattened_data)\n",
    "\n",
    "print(df.shape)\n",
    "\n",
    "X = df.drop(columns=['win', 'radiant_lineup', 'dire_lineup'], axis=1)\n",
    "y = df['win']"
   ]
  },
  {
   "cell_type": "code",
   "execution_count": 7,
   "metadata": {},
   "outputs": [
    {
     "name": "stdout",
     "output_type": "stream",
     "text": [
      "Random Forest Accuracy: 0.99\n"
     ]
    }
   ],
   "source": [
    "# random forest\n",
    "from sklearn.ensemble import RandomForestClassifier\n",
    "from sklearn.model_selection import train_test_split\n",
    "\n",
    "# split the data into training and testing sets\n",
    "X_train, X_test, y_train, y_test = train_test_split(X, y, test_size=0.2, random_state=42)\n",
    "\n",
    "# create and train the model\n",
    "model = RandomForestClassifier(n_estimators=100, random_state=42)\n",
    "model.fit(X_train, y_train)\n",
    "\n",
    "# test accuracy\n",
    "accuracy = model.score(X_test, y_test)\n",
    "print(f\"Random Forest Accuracy: {accuracy:.2f}\")"
   ]
  },
  {
   "cell_type": "code",
   "execution_count": 8,
   "metadata": {},
   "outputs": [
    {
     "name": "stdout",
     "output_type": "stream",
     "text": [
      "SVM Accuracy: 0.99\n"
     ]
    }
   ],
   "source": [
    "# svm\n",
    "from sklearn import svm\n",
    "from sklearn.preprocessing import StandardScaler\n",
    "\n",
    "scaler = StandardScaler()\n",
    "svm_X = scaler.fit_transform(X)\n",
    "\n",
    "X_train, X_test, y_train, y_test = train_test_split(svm_X, y, test_size=0.2, random_state=42)\n",
    "\n",
    "svm_model = svm.SVC(kernel='linear')\n",
    "svm_model.fit(X_train, y_train)\n",
    "\n",
    "accuracy = svm_model.score(X_test, y_test)\n",
    "print(f\"SVM Accuracy: {accuracy:.2f}\")"
   ]
  },
  {
   "cell_type": "code",
   "execution_count": 9,
   "metadata": {},
   "outputs": [
    {
     "name": "stdout",
     "output_type": "stream",
     "text": [
      "Decision Tree Accuracy: 0.94\n",
      "Feature importances: [0.00000000e+00 0.00000000e+00 0.00000000e+00 0.00000000e+00\n",
      " 0.00000000e+00 6.30170553e-01 3.55534677e-03 6.52902835e-03\n",
      " 0.00000000e+00 9.51746063e-04 0.00000000e+00 0.00000000e+00\n",
      " 3.80542364e-02 0.00000000e+00 0.00000000e+00 2.85571287e-03\n",
      " 0.00000000e+00 0.00000000e+00 0.00000000e+00 1.18489210e-01\n",
      " 0.00000000e+00 0.00000000e+00 0.00000000e+00 1.44922365e-02\n",
      " 0.00000000e+00 0.00000000e+00 3.66203160e-03 0.00000000e+00\n",
      " 0.00000000e+00 0.00000000e+00 7.91397376e-03 1.93452692e-03\n",
      " 0.00000000e+00 0.00000000e+00 0.00000000e+00 0.00000000e+00\n",
      " 0.00000000e+00 0.00000000e+00 5.75148398e-04 1.93452692e-03\n",
      " 6.65263244e-02 0.00000000e+00 0.00000000e+00 2.75508970e-03\n",
      " 0.00000000e+00 0.00000000e+00 0.00000000e+00 1.04827177e-02\n",
      " 0.00000000e+00 6.52902835e-03 0.00000000e+00 2.85175951e-03\n",
      " 0.00000000e+00 0.00000000e+00 1.49120594e-02 0.00000000e+00\n",
      " 0.00000000e+00 0.00000000e+00 1.28977166e-02 0.00000000e+00\n",
      " 0.00000000e+00 0.00000000e+00 0.00000000e+00 0.00000000e+00\n",
      " 2.32143230e-03 0.00000000e+00 1.93452692e-03 2.86585750e-03\n",
      " 4.48052108e-02 0.00000000e+00 0.00000000e+00]\n"
     ]
    }
   ],
   "source": [
    "from sklearn.tree import DecisionTreeClassifier\n",
    "from sklearn import metrics\n",
    "\n",
    "X_train, X_test, y_train, y_test = train_test_split(X, y, test_size=0.2, random_state=42)\n",
    "\n",
    "clf = DecisionTreeClassifier(random_state=42)\n",
    "clf.fit(X_train, y_train)\n",
    "\n",
    "y_pred = clf.predict(X_test)\n",
    "\n",
    "accuracy = metrics.accuracy_score(y_test, y_pred)\n",
    "print(f\"Decision Tree Accuracy: {accuracy:.2f}\")\n",
    "\n",
    "print(\"Feature importances:\", clf.feature_importances_)"
   ]
  }
 ],
 "metadata": {
  "kernelspec": {
   "display_name": "Python 3",
   "language": "python",
   "name": "python3"
  },
  "language_info": {
   "codemirror_mode": {
    "name": "ipython",
    "version": 3
   },
   "file_extension": ".py",
   "mimetype": "text/x-python",
   "name": "python",
   "nbconvert_exporter": "python",
   "pygments_lexer": "ipython3",
   "version": "3.12.7"
  }
 },
 "nbformat": 4,
 "nbformat_minor": 2
}
